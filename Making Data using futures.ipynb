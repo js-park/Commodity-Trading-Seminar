{
 "cells": [
  {
   "cell_type": "code",
   "execution_count": 1,
   "metadata": {},
   "outputs": [],
   "source": [
    "import pandas as pd\n",
    "import numpy as np\n",
    "import datetime \n",
    "import pandas_datareader.data as web\n",
    "import matplotlib.pyplot as plt\n",
    "import pandas_datareader as pdr"
   ]
  },
  {
   "cell_type": "markdown",
   "metadata": {},
   "source": [
    "The excel files downloaded via Bloomberg terminal in Erasmus University. Retrieving data, such as Brent Crude Oil, was done by FRED website.\n",
    "Five factors are chosen through Vector Auto Regressive(VAR) models. Economically meaningful and statistically significants are main reasons to choose the factors."
   ]
  },
  {
   "cell_type": "code",
   "execution_count": 2,
   "metadata": {},
   "outputs": [],
   "source": [
    "start='2001-01-01'\n",
    "end='2018-01-18'"
   ]
  },
  {
   "cell_type": "code",
   "execution_count": 3,
   "metadata": {},
   "outputs": [
    {
     "name": "stdout",
     "output_type": "stream",
     "text": [
      "             Close\n",
      "Date              \n",
      "2008-12-31  2906.0\n",
      "2009-01-02  2989.0\n",
      "2009-01-05  2951.0\n",
      "2009-01-06  3145.0\n",
      "2009-01-07  3098.0\n",
      "2009-01-08  3096.0\n",
      "2009-01-09  3196.0\n",
      "2009-01-12  3130.0\n",
      "2009-01-13  3100.0\n",
      "2009-01-14  3079.0\n"
     ]
    }
   ],
   "source": [
    "# Import futures data\n",
    "R_f = pd.read_excel('Rob_future.xlsx', index_col=0)\n",
    "# making ascending\n",
    "R_f=R_f.sort_index(ascending=True)\n",
    "print(R_f.head(10))"
   ]
  },
  {
   "cell_type": "code",
   "execution_count": 4,
   "metadata": {},
   "outputs": [
    {
     "name": "stdout",
     "output_type": "stream",
     "text": [
      "            DCOILBRENTEU\n",
      "DATE                    \n",
      "2018-01-12         69.64\n",
      "2018-01-15         70.31\n",
      "2018-01-16         69.40\n",
      "2018-01-17         69.19\n",
      "2018-01-18         69.48\n"
     ]
    }
   ],
   "source": [
    "# importing Old data\n",
    "brent = web.DataReader(\"DCOILBRENTEU\",'fred',start, end)\n",
    "print(brent.tail())"
   ]
  },
  {
   "cell_type": "code",
   "execution_count": 5,
   "metadata": {},
   "outputs": [],
   "source": [
    "# making clean data and put it on the price data\n",
    "# wti = wti.fillna(method='ffill')\n",
    "R_f['Brent'] = brent['DCOILBRENTEU']"
   ]
  },
  {
   "cell_type": "code",
   "execution_count": 6,
   "metadata": {},
   "outputs": [
    {
     "name": "stdout",
     "output_type": "stream",
     "text": [
      "            C_Inven\n",
      "Date               \n",
      "2018-01-26    1.979\n",
      "2018-01-29    1.967\n",
      "2018-01-30    1.965\n",
      "2018-01-31    1.970\n",
      "2018-02-01    1.964\n"
     ]
    }
   ],
   "source": [
    "# getting inventories data\n",
    "inven = pd.read_excel('C_Inven.xlsx',index_col=0)\n",
    "inven=inven.sort_index(ascending=True)\n",
    "# inven = inven.dropna(axis=0, how='any')\n",
    "print(inven.tail())"
   ]
  },
  {
   "cell_type": "code",
   "execution_count": 7,
   "metadata": {},
   "outputs": [
    {
     "name": "stdout",
     "output_type": "stream",
     "text": [
      "             Close  Brent  C_Inven\n",
      "Date                              \n",
      "2008-12-31  2906.0  35.82      NaN\n",
      "2009-01-02  2989.0  42.94    4.407\n",
      "2009-01-05  2951.0  45.84    4.400\n",
      "2009-01-06  3145.0  48.89    4.402\n",
      "2009-01-07  3098.0  46.23    4.390\n"
     ]
    }
   ],
   "source": [
    "R_f['C_Inven'] = inven['C_Inven']\n",
    "print(R_f.head())"
   ]
  },
  {
   "cell_type": "code",
   "execution_count": 8,
   "metadata": {},
   "outputs": [
    {
     "name": "stdout",
     "output_type": "stream",
     "text": [
      "            Robusta  Ara_Brazil\n",
      "Date                           \n",
      "2018-01-18    89.79      122.78\n",
      "2018-01-17    89.79      122.78\n",
      "2018-01-16    87.85      120.17\n",
      "2018-01-15    87.93      121.64\n",
      "2018-01-12    88.24      121.29\n"
     ]
    }
   ],
   "source": [
    "alldata = pd.read_excel('alldata.xlsx', index_col=0)\n",
    "print(alldata.head())"
   ]
  },
  {
   "cell_type": "code",
   "execution_count": 9,
   "metadata": {},
   "outputs": [
    {
     "data": {
      "text/html": [
       "<div>\n",
       "<style scoped>\n",
       "    .dataframe tbody tr th:only-of-type {\n",
       "        vertical-align: middle;\n",
       "    }\n",
       "\n",
       "    .dataframe tbody tr th {\n",
       "        vertical-align: top;\n",
       "    }\n",
       "\n",
       "    .dataframe thead th {\n",
       "        text-align: right;\n",
       "    }\n",
       "</style>\n",
       "<table border=\"1\" class=\"dataframe\">\n",
       "  <thead>\n",
       "    <tr style=\"text-align: right;\">\n",
       "      <th></th>\n",
       "      <th>Close</th>\n",
       "      <th>Brent</th>\n",
       "      <th>C_Inven</th>\n",
       "      <th>Ara_Brazil</th>\n",
       "    </tr>\n",
       "    <tr>\n",
       "      <th>Date</th>\n",
       "      <th></th>\n",
       "      <th></th>\n",
       "      <th></th>\n",
       "      <th></th>\n",
       "    </tr>\n",
       "  </thead>\n",
       "  <tbody>\n",
       "    <tr>\n",
       "      <th>2008-12-31</th>\n",
       "      <td>2906.0</td>\n",
       "      <td>35.82</td>\n",
       "      <td>NaN</td>\n",
       "      <td>NaN</td>\n",
       "    </tr>\n",
       "    <tr>\n",
       "      <th>2009-01-02</th>\n",
       "      <td>2989.0</td>\n",
       "      <td>42.94</td>\n",
       "      <td>4.407</td>\n",
       "      <td>102.19</td>\n",
       "    </tr>\n",
       "    <tr>\n",
       "      <th>2009-01-05</th>\n",
       "      <td>2951.0</td>\n",
       "      <td>45.84</td>\n",
       "      <td>4.400</td>\n",
       "      <td>100.14</td>\n",
       "    </tr>\n",
       "    <tr>\n",
       "      <th>2009-01-06</th>\n",
       "      <td>3145.0</td>\n",
       "      <td>48.89</td>\n",
       "      <td>4.402</td>\n",
       "      <td>106.92</td>\n",
       "    </tr>\n",
       "    <tr>\n",
       "      <th>2009-01-07</th>\n",
       "      <td>3098.0</td>\n",
       "      <td>46.23</td>\n",
       "      <td>4.390</td>\n",
       "      <td>107.61</td>\n",
       "    </tr>\n",
       "  </tbody>\n",
       "</table>\n",
       "</div>"
      ],
      "text/plain": [
       "             Close  Brent  C_Inven  Ara_Brazil\n",
       "Date                                          \n",
       "2008-12-31  2906.0  35.82      NaN         NaN\n",
       "2009-01-02  2989.0  42.94    4.407      102.19\n",
       "2009-01-05  2951.0  45.84    4.400      100.14\n",
       "2009-01-06  3145.0  48.89    4.402      106.92\n",
       "2009-01-07  3098.0  46.23    4.390      107.61"
      ]
     },
     "execution_count": 9,
     "metadata": {},
     "output_type": "execute_result"
    }
   ],
   "source": [
    "R_f['Ara_Brazil'] = alldata['Ara_Brazil']\n",
    "R_f.head()"
   ]
  },
  {
   "cell_type": "code",
   "execution_count": 10,
   "metadata": {},
   "outputs": [
    {
     "data": {
      "text/html": [
       "<div>\n",
       "<style scoped>\n",
       "    .dataframe tbody tr th:only-of-type {\n",
       "        vertical-align: middle;\n",
       "    }\n",
       "\n",
       "    .dataframe tbody tr th {\n",
       "        vertical-align: top;\n",
       "    }\n",
       "\n",
       "    .dataframe thead th {\n",
       "        text-align: right;\n",
       "    }\n",
       "</style>\n",
       "<table border=\"1\" class=\"dataframe\">\n",
       "  <thead>\n",
       "    <tr style=\"text-align: right;\">\n",
       "      <th></th>\n",
       "      <th>Close</th>\n",
       "      <th>Brent</th>\n",
       "      <th>C_Inven</th>\n",
       "      <th>Ara_Brazil</th>\n",
       "    </tr>\n",
       "    <tr>\n",
       "      <th>Date</th>\n",
       "      <th></th>\n",
       "      <th></th>\n",
       "      <th></th>\n",
       "      <th></th>\n",
       "    </tr>\n",
       "  </thead>\n",
       "  <tbody>\n",
       "    <tr>\n",
       "      <th>2008-12-31</th>\n",
       "      <td>2906.0</td>\n",
       "      <td>35.82</td>\n",
       "      <td>NaN</td>\n",
       "      <td>NaN</td>\n",
       "    </tr>\n",
       "    <tr>\n",
       "      <th>2009-01-02</th>\n",
       "      <td>2989.0</td>\n",
       "      <td>42.94</td>\n",
       "      <td>4.407</td>\n",
       "      <td>102.19</td>\n",
       "    </tr>\n",
       "    <tr>\n",
       "      <th>2009-01-05</th>\n",
       "      <td>2951.0</td>\n",
       "      <td>45.84</td>\n",
       "      <td>4.400</td>\n",
       "      <td>100.14</td>\n",
       "    </tr>\n",
       "    <tr>\n",
       "      <th>2009-01-06</th>\n",
       "      <td>3145.0</td>\n",
       "      <td>48.89</td>\n",
       "      <td>4.402</td>\n",
       "      <td>106.92</td>\n",
       "    </tr>\n",
       "    <tr>\n",
       "      <th>2009-01-07</th>\n",
       "      <td>3098.0</td>\n",
       "      <td>46.23</td>\n",
       "      <td>4.390</td>\n",
       "      <td>107.61</td>\n",
       "    </tr>\n",
       "  </tbody>\n",
       "</table>\n",
       "</div>"
      ],
      "text/plain": [
       "             Close  Brent  C_Inven  Ara_Brazil\n",
       "Date                                          \n",
       "2008-12-31  2906.0  35.82      NaN         NaN\n",
       "2009-01-02  2989.0  42.94    4.407      102.19\n",
       "2009-01-05  2951.0  45.84    4.400      100.14\n",
       "2009-01-06  3145.0  48.89    4.402      106.92\n",
       "2009-01-07  3098.0  46.23    4.390      107.61"
      ]
     },
     "execution_count": 10,
     "metadata": {},
     "output_type": "execute_result"
    }
   ],
   "source": [
    "R_f = R_f.fillna(method='ffill')\n",
    "R_f.head()"
   ]
  },
  {
   "cell_type": "code",
   "execution_count": 11,
   "metadata": {},
   "outputs": [],
   "source": [
    "writer = pd.ExcelWriter('all_future.xlsx')\n",
    "R_f.to_excel(writer,'Sheet1')\n",
    "writer.save()"
   ]
  },
  {
   "cell_type": "code",
   "execution_count": 12,
   "metadata": {},
   "outputs": [
    {
     "data": {
      "text/html": [
       "<div>\n",
       "<style scoped>\n",
       "    .dataframe tbody tr th:only-of-type {\n",
       "        vertical-align: middle;\n",
       "    }\n",
       "\n",
       "    .dataframe tbody tr th {\n",
       "        vertical-align: top;\n",
       "    }\n",
       "\n",
       "    .dataframe thead th {\n",
       "        text-align: right;\n",
       "    }\n",
       "</style>\n",
       "<table border=\"1\" class=\"dataframe\">\n",
       "  <thead>\n",
       "    <tr style=\"text-align: right;\">\n",
       "      <th></th>\n",
       "      <th>Close</th>\n",
       "      <th>Brent</th>\n",
       "      <th>C_Inven</th>\n",
       "      <th>Ara_Brazil</th>\n",
       "    </tr>\n",
       "    <tr>\n",
       "      <th>Date</th>\n",
       "      <th></th>\n",
       "      <th></th>\n",
       "      <th></th>\n",
       "      <th></th>\n",
       "    </tr>\n",
       "  </thead>\n",
       "  <tbody>\n",
       "    <tr>\n",
       "      <th>2008-12-31</th>\n",
       "      <td>2906</td>\n",
       "      <td>35.82</td>\n",
       "      <td>NaN</td>\n",
       "      <td>NaN</td>\n",
       "    </tr>\n",
       "    <tr>\n",
       "      <th>2009-01-02</th>\n",
       "      <td>2989</td>\n",
       "      <td>42.94</td>\n",
       "      <td>4.407</td>\n",
       "      <td>102.19</td>\n",
       "    </tr>\n",
       "    <tr>\n",
       "      <th>2009-01-05</th>\n",
       "      <td>2951</td>\n",
       "      <td>45.84</td>\n",
       "      <td>4.400</td>\n",
       "      <td>100.14</td>\n",
       "    </tr>\n",
       "    <tr>\n",
       "      <th>2009-01-06</th>\n",
       "      <td>3145</td>\n",
       "      <td>48.89</td>\n",
       "      <td>4.402</td>\n",
       "      <td>106.92</td>\n",
       "    </tr>\n",
       "    <tr>\n",
       "      <th>2009-01-07</th>\n",
       "      <td>3098</td>\n",
       "      <td>46.23</td>\n",
       "      <td>4.390</td>\n",
       "      <td>107.61</td>\n",
       "    </tr>\n",
       "  </tbody>\n",
       "</table>\n",
       "</div>"
      ],
      "text/plain": [
       "            Close  Brent  C_Inven  Ara_Brazil\n",
       "Date                                         \n",
       "2008-12-31   2906  35.82      NaN         NaN\n",
       "2009-01-02   2989  42.94    4.407      102.19\n",
       "2009-01-05   2951  45.84    4.400      100.14\n",
       "2009-01-06   3145  48.89    4.402      106.92\n",
       "2009-01-07   3098  46.23    4.390      107.61"
      ]
     },
     "execution_count": 12,
     "metadata": {},
     "output_type": "execute_result"
    }
   ],
   "source": [
    "R_f_e = pd.read_excel('all_future.xlsx', index_col=0)\n",
    "R_f_e.head()"
   ]
  },
  {
   "cell_type": "markdown",
   "metadata": {},
   "source": [
    "During the seminar, my group used Vector Auto Regressive(VAR) models. So, constructing return data was essential."
   ]
  },
  {
   "cell_type": "code",
   "execution_count": 13,
   "metadata": {},
   "outputs": [
    {
     "data": {
      "text/html": [
       "<div>\n",
       "<style scoped>\n",
       "    .dataframe tbody tr th:only-of-type {\n",
       "        vertical-align: middle;\n",
       "    }\n",
       "\n",
       "    .dataframe tbody tr th {\n",
       "        vertical-align: top;\n",
       "    }\n",
       "\n",
       "    .dataframe thead th {\n",
       "        text-align: right;\n",
       "    }\n",
       "</style>\n",
       "<table border=\"1\" class=\"dataframe\">\n",
       "  <thead>\n",
       "    <tr style=\"text-align: right;\">\n",
       "      <th></th>\n",
       "      <th>Close</th>\n",
       "      <th>Brent</th>\n",
       "      <th>C_Inven</th>\n",
       "      <th>Ara_Brazil</th>\n",
       "    </tr>\n",
       "    <tr>\n",
       "      <th>Date</th>\n",
       "      <th></th>\n",
       "      <th></th>\n",
       "      <th></th>\n",
       "      <th></th>\n",
       "    </tr>\n",
       "  </thead>\n",
       "  <tbody>\n",
       "    <tr>\n",
       "      <th>2009-01-05</th>\n",
       "      <td>-0.012795</td>\n",
       "      <td>0.065353</td>\n",
       "      <td>-0.001590</td>\n",
       "      <td>-0.020265</td>\n",
       "    </tr>\n",
       "    <tr>\n",
       "      <th>2009-01-06</th>\n",
       "      <td>0.063670</td>\n",
       "      <td>0.064416</td>\n",
       "      <td>0.000454</td>\n",
       "      <td>0.065512</td>\n",
       "    </tr>\n",
       "    <tr>\n",
       "      <th>2009-01-07</th>\n",
       "      <td>-0.015057</td>\n",
       "      <td>-0.055944</td>\n",
       "      <td>-0.002730</td>\n",
       "      <td>0.006433</td>\n",
       "    </tr>\n",
       "    <tr>\n",
       "      <th>2009-01-08</th>\n",
       "      <td>-0.000646</td>\n",
       "      <td>-0.073825</td>\n",
       "      <td>-0.000228</td>\n",
       "      <td>-0.005965</td>\n",
       "    </tr>\n",
       "    <tr>\n",
       "      <th>2009-01-09</th>\n",
       "      <td>0.031789</td>\n",
       "      <td>-0.014072</td>\n",
       "      <td>-0.003881</td>\n",
       "      <td>0.028114</td>\n",
       "    </tr>\n",
       "  </tbody>\n",
       "</table>\n",
       "</div>"
      ],
      "text/plain": [
       "               Close     Brent   C_Inven  Ara_Brazil\n",
       "Date                                                \n",
       "2009-01-05 -0.012795  0.065353 -0.001590   -0.020265\n",
       "2009-01-06  0.063670  0.064416  0.000454    0.065512\n",
       "2009-01-07 -0.015057 -0.055944 -0.002730    0.006433\n",
       "2009-01-08 -0.000646 -0.073825 -0.000228   -0.005965\n",
       "2009-01-09  0.031789 -0.014072 -0.003881    0.028114"
      ]
     },
     "execution_count": 13,
     "metadata": {},
     "output_type": "execute_result"
    }
   ],
   "source": [
    "R_f_e = np.log(R_f_e).diff().dropna()\n",
    "R_f_e.head()"
   ]
  },
  {
   "cell_type": "code",
   "execution_count": 14,
   "metadata": {},
   "outputs": [
    {
     "name": "stdout",
     "output_type": "stream",
     "text": [
      "            Currency\n",
      "Date                \n",
      "2009-01-01       NaN\n",
      "2009-01-02 -0.001506\n",
      "2009-01-05 -0.006053\n",
      "2009-01-06 -0.005477\n",
      "2009-01-07  0.003061\n"
     ]
    }
   ],
   "source": [
    "currency = pd.read_excel('currency.xlsx', index_col=0)\n",
    "currency=currency.sort_index(ascending=True)\n",
    "print(currency.head())"
   ]
  },
  {
   "cell_type": "code",
   "execution_count": 15,
   "metadata": {},
   "outputs": [
    {
     "name": "stdout",
     "output_type": "stream",
     "text": [
      "               Close     Brent   C_Inven  Ara_Brazil  Currency\n",
      "Date                                                          \n",
      "2009-01-05 -0.012795  0.065353 -0.001590   -0.020265 -0.006053\n",
      "2009-01-06  0.063670  0.064416  0.000454    0.065512 -0.005477\n",
      "2009-01-07 -0.015057 -0.055944 -0.002730    0.006433  0.003061\n",
      "2009-01-08 -0.000646 -0.073825 -0.000228   -0.005965  0.007221\n",
      "2009-01-09  0.031789 -0.014072 -0.003881    0.028114 -0.003043\n"
     ]
    }
   ],
   "source": [
    "R_f_e['Currency'] = currency['Currency']\n",
    "print(R_f_e.head())"
   ]
  },
  {
   "cell_type": "code",
   "execution_count": 16,
   "metadata": {},
   "outputs": [
    {
     "data": {
      "text/html": [
       "<div>\n",
       "<style scoped>\n",
       "    .dataframe tbody tr th:only-of-type {\n",
       "        vertical-align: middle;\n",
       "    }\n",
       "\n",
       "    .dataframe tbody tr th {\n",
       "        vertical-align: top;\n",
       "    }\n",
       "\n",
       "    .dataframe thead th {\n",
       "        text-align: right;\n",
       "    }\n",
       "</style>\n",
       "<table border=\"1\" class=\"dataframe\">\n",
       "  <thead>\n",
       "    <tr style=\"text-align: right;\">\n",
       "      <th></th>\n",
       "      <th>Close</th>\n",
       "      <th>Brent</th>\n",
       "      <th>C_Inven</th>\n",
       "      <th>Ara_Brazil</th>\n",
       "      <th>Currency</th>\n",
       "    </tr>\n",
       "    <tr>\n",
       "      <th>Date</th>\n",
       "      <th></th>\n",
       "      <th></th>\n",
       "      <th></th>\n",
       "      <th></th>\n",
       "      <th></th>\n",
       "    </tr>\n",
       "  </thead>\n",
       "  <tbody>\n",
       "    <tr>\n",
       "      <th>2009-01-05</th>\n",
       "      <td>-0.012795</td>\n",
       "      <td>0.065353</td>\n",
       "      <td>-0.001590</td>\n",
       "      <td>-0.020265</td>\n",
       "      <td>-0.006053</td>\n",
       "    </tr>\n",
       "    <tr>\n",
       "      <th>2009-01-06</th>\n",
       "      <td>0.063670</td>\n",
       "      <td>0.064416</td>\n",
       "      <td>0.000454</td>\n",
       "      <td>0.065512</td>\n",
       "      <td>-0.005477</td>\n",
       "    </tr>\n",
       "    <tr>\n",
       "      <th>2009-01-07</th>\n",
       "      <td>-0.015057</td>\n",
       "      <td>-0.055944</td>\n",
       "      <td>-0.002730</td>\n",
       "      <td>0.006433</td>\n",
       "      <td>0.003061</td>\n",
       "    </tr>\n",
       "    <tr>\n",
       "      <th>2009-01-08</th>\n",
       "      <td>-0.000646</td>\n",
       "      <td>-0.073825</td>\n",
       "      <td>-0.000228</td>\n",
       "      <td>-0.005965</td>\n",
       "      <td>0.007221</td>\n",
       "    </tr>\n",
       "    <tr>\n",
       "      <th>2009-01-09</th>\n",
       "      <td>0.031789</td>\n",
       "      <td>-0.014072</td>\n",
       "      <td>-0.003881</td>\n",
       "      <td>0.028114</td>\n",
       "      <td>-0.003043</td>\n",
       "    </tr>\n",
       "  </tbody>\n",
       "</table>\n",
       "</div>"
      ],
      "text/plain": [
       "               Close     Brent   C_Inven  Ara_Brazil  Currency\n",
       "Date                                                          \n",
       "2009-01-05 -0.012795  0.065353 -0.001590   -0.020265 -0.006053\n",
       "2009-01-06  0.063670  0.064416  0.000454    0.065512 -0.005477\n",
       "2009-01-07 -0.015057 -0.055944 -0.002730    0.006433  0.003061\n",
       "2009-01-08 -0.000646 -0.073825 -0.000228   -0.005965  0.007221\n",
       "2009-01-09  0.031789 -0.014072 -0.003881    0.028114 -0.003043"
      ]
     },
     "execution_count": 16,
     "metadata": {},
     "output_type": "execute_result"
    }
   ],
   "source": [
    "R_f_e = R_f_e.dropna(axis=0, how='any')\n",
    "R_f_e.head()"
   ]
  },
  {
   "cell_type": "code",
   "execution_count": 17,
   "metadata": {},
   "outputs": [],
   "source": [
    "writer = pd.ExcelWriter('all_future_return.xlsx')\n",
    "R_f_e.to_excel(writer,'Sheet1')\n",
    "writer.save()"
   ]
  }
 ],
 "metadata": {
  "kernelspec": {
   "display_name": "Python 3",
   "language": "python",
   "name": "python3"
  },
  "language_info": {
   "codemirror_mode": {
    "name": "ipython",
    "version": 3
   },
   "file_extension": ".py",
   "mimetype": "text/x-python",
   "name": "python",
   "nbconvert_exporter": "python",
   "pygments_lexer": "ipython3",
   "version": "3.6.4"
  }
 },
 "nbformat": 4,
 "nbformat_minor": 2
}
